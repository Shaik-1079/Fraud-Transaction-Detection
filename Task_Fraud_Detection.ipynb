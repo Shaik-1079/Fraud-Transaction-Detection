{
  "cells": [
    {
      "cell_type": "code",
      "execution_count": 32,
      "metadata": {
        "id": "4AN-ioh_srPQ"
      },
      "outputs": [],
      "source": [
        "import pandas as pd                                                                \n",
        "import numpy as np                                              \n",
        "import matplotlib.pyplot as plt                                                                       \n",
        "import seaborn as sns                                                                     \n",
        "from sklearn.model_selection import train_test_split\n",
        "\n",
        "from sklearn.model_selection import cross_val_score\n",
        "import warnings\n",
        "warnings.filterwarnings('ignore')\n",
        "%matplotlib inline\n"
      ]
    },
    {
      "cell_type": "code",
      "execution_count": 33,
      "metadata": {
        "colab": {
          "base_uri": "https://localhost:8080/"
        },
        "id": "hL4_80s4s63l",
        "outputId": "03890c60-fd14-4270-a438-cc84f4bd5717"
      },
      "outputs": [
        {
          "output_type": "stream",
          "name": "stdout",
          "text": [
            "Drive already mounted at /content/drive; to attempt to forcibly remount, call drive.mount(\"/content/drive\", force_remount=True).\n"
          ]
        }
      ],
      "source": [
        "from google.colab import drive\n",
        "drive.mount('/content/drive')\n",
        "path=\"/content/drive/MyDrive/Fraud.csv\"\n",
        "data= pd.read_csv(path)"
      ]
    },
    {
      "cell_type": "code",
      "execution_count": 3,
      "metadata": {
        "colab": {
          "base_uri": "https://localhost:8080/"
        },
        "id": "wbB5W8oYu_bf",
        "outputId": "9f63ead0-9191-406d-ce29-f461f4e15f0a"
      },
      "outputs": [
        {
          "output_type": "execute_result",
          "data": {
            "text/plain": [
              "<bound method DataFrame.info of          step      type      amount     nameOrig  oldbalanceOrg  \\\n",
              "0           1   PAYMENT     9839.64  C1231006815      170136.00   \n",
              "1           1   PAYMENT     1864.28  C1666544295       21249.00   \n",
              "2           1  TRANSFER      181.00  C1305486145         181.00   \n",
              "3           1  CASH_OUT      181.00   C840083671         181.00   \n",
              "4           1   PAYMENT    11668.14  C2048537720       41554.00   \n",
              "...       ...       ...         ...          ...            ...   \n",
              "6362615   743  CASH_OUT   339682.13   C786484425      339682.13   \n",
              "6362616   743  TRANSFER  6311409.28  C1529008245     6311409.28   \n",
              "6362617   743  CASH_OUT  6311409.28  C1162922333     6311409.28   \n",
              "6362618   743  TRANSFER   850002.52  C1685995037      850002.52   \n",
              "6362619   743  CASH_OUT   850002.52  C1280323807      850002.52   \n",
              "\n",
              "         newbalanceOrig     nameDest  oldbalanceDest  newbalanceDest  isFraud  \\\n",
              "0             160296.36  M1979787155            0.00            0.00        0   \n",
              "1              19384.72  M2044282225            0.00            0.00        0   \n",
              "2                  0.00   C553264065            0.00            0.00        1   \n",
              "3                  0.00    C38997010        21182.00            0.00        1   \n",
              "4              29885.86  M1230701703            0.00            0.00        0   \n",
              "...                 ...          ...             ...             ...      ...   \n",
              "6362615            0.00   C776919290            0.00       339682.13        1   \n",
              "6362616            0.00  C1881841831            0.00            0.00        1   \n",
              "6362617            0.00  C1365125890        68488.84      6379898.11        1   \n",
              "6362618            0.00  C2080388513            0.00            0.00        1   \n",
              "6362619            0.00   C873221189      6510099.11      7360101.63        1   \n",
              "\n",
              "         isFlaggedFraud  \n",
              "0                     0  \n",
              "1                     0  \n",
              "2                     0  \n",
              "3                     0  \n",
              "4                     0  \n",
              "...                 ...  \n",
              "6362615               0  \n",
              "6362616               0  \n",
              "6362617               0  \n",
              "6362618               0  \n",
              "6362619               0  \n",
              "\n",
              "[6362620 rows x 11 columns]>"
            ]
          },
          "metadata": {},
          "execution_count": 3
        }
      ],
      "source": [
        "data.info\n"
      ]
    },
    {
      "cell_type": "code",
      "execution_count": 34,
      "metadata": {
        "colab": {
          "base_uri": "https://localhost:8080/"
        },
        "id": "5LLB90EFvrzN",
        "outputId": "b2619717-f6e0-463a-c0c4-45e20f1b32ac"
      },
      "outputs": [
        {
          "output_type": "stream",
          "name": "stdout",
          "text": [
            "Number of unique values in column type is 5\n",
            "Number of unique values in column nameOrig is 6353307\n",
            "Number of unique values in column nameDest is 2722362\n"
          ]
        }
      ],
      "source": [
        "Categorical_features=[feature for feature in data.columns if data[feature].dtypes == 'object']\n",
        "Numerical_features=[feature for feature in data.columns if data[feature].dtypes != 'object']\n",
        "Continous_features=[]\n",
        "\n",
        "for feature in Categorical_features:\n",
        "    print(f'Number of unique values in column {feature} is {data[feature].nunique()}')\n",
        "    if data[feature].nunique()>15:\n",
        "        Continous_features.append(feature)"
      ]
    },
    {
      "cell_type": "code",
      "execution_count": 5,
      "metadata": {
        "colab": {
          "base_uri": "https://localhost:8080/",
          "height": 817
        },
        "id": "LwOp--X0yw4G",
        "outputId": "c326f036-7de0-449a-d99a-71cfe0b3d599"
      },
      "outputs": [
        {
          "output_type": "execute_result",
          "data": {
            "text/plain": [
              "<matplotlib.axes._subplots.AxesSubplot at 0x7f3b3211b3d0>"
            ]
          },
          "metadata": {},
          "execution_count": 5
        },
        {
          "output_type": "display_data",
          "data": {
            "text/plain": [
              "<Figure size 750x750 with 1 Axes>"
            ],
            "image/png": "[encoded data removed]"
          },
          "metadata": {
            "needs_background": "light"
          }
        }
      ],
      "source": [
        "plt.figure(figsize=(5,5),dpi=150)\n",
        "sns.heatmap(data.isna(),yticklabels=False,cbar=False,cmap='magma')"
      ]
    },
    {
      "cell_type": "markdown",
      "metadata": {
        "id": "4QUb31cx3y7G"
      },
      "source": [
        "INFERENCE: THERE ARE NO NULL OR NA VALUES IN THE DATASET (MISSSING VALUES) "
      ]
    },
    {
      "cell_type": "markdown",
      "metadata": {
        "id": "QXFVLQqK-pAo"
      },
      "source": [
        "CORRELATION "
      ]
    },
    {
      "cell_type": "code",
      "execution_count": 6,
      "metadata": {
        "colab": {
          "base_uri": "https://localhost:8080/",
          "height": 577
        },
        "id": "i-63ARsy0LwO",
        "outputId": "baacca3e-5fb8-4f8c-89da-b7b86d8fc3fb"
      },
      "outputs": [
        {
          "output_type": "execute_result",
          "data": {
            "text/plain": [
              "<matplotlib.axes._subplots.AxesSubplot at 0x7f3b3007c5d0>"
            ]
          },
          "metadata": {},
          "execution_count": 6
        },
        {
          "output_type": "display_data",
          "data": {
            "text/plain": [
              "<Figure size 576x576 with 2 Axes>"
            ],
            "image/png": "[encoded data removed]"
          },
          "metadata": {
            "needs_background": "light"
          }
        }
      ],
      "source": [
        "plt.figure(figsize=(8,8))\n",
        "sns.heatmap(data.corr(),annot=True,cmap='rainbow')"
      ]
    },
    {
      "cell_type": "markdown",
      "metadata": {
        "id": "150VpiXH_oGn"
      },
      "source": [
        "INFERENCE: \n",
        "\n",
        "1.  OldbalanceOrig & newbalanaceOrig are strongly correlated\n",
        "2.  OldbalanceDest & newBalanceDest are also correlated\n",
        "\n",
        "\n",
        "with some other results from the heatmap\n",
        "\n"
      ]
    },
    {
      "cell_type": "code",
      "execution_count": 7,
      "metadata": {
        "colab": {
          "base_uri": "https://localhost:8080/",
          "height": 334
        },
        "id": "SemY1Pym_rC4",
        "outputId": "97f4a40d-ecd5-4442-ac71-39e181546481"
      },
      "outputs": [
        {
          "output_type": "display_data",
          "data": {
            "text/plain": [
              "<Figure size 432x288 with 1 Axes>"
            ],
            "image/png": "[encoded data removed]"
          },
          "metadata": {
            "needs_background": "light"
          }
        }
      ],
      "source": [
        "var = data.groupby('type').amount.sum()\n",
        "fig = plt.figure()\n",
        "ax1 = fig.add_subplot(1,1,1)\n",
        "var.plot(kind='bar')\n",
        "ax1.set_xlabel('Type of Transaction')\n",
        "ax1.set_ylabel('Amount');"
      ]
    },
    {
      "cell_type": "code",
      "execution_count": 8,
      "metadata": {
        "colab": {
          "base_uri": "https://localhost:8080/"
        },
        "id": "bzGBZtWvAzCA",
        "outputId": "00a4b226-f1c6-43c1-d583-29fdaf6a5bbc"
      },
      "outputs": [
        {
          "output_type": "execute_result",
          "data": {
            "text/plain": [
              "array(['TRANSFER', 'CASH_OUT'], dtype=object)"
            ]
          },
          "metadata": {},
          "execution_count": 8
        }
      ],
      "source": [
        "data.loc[data.isFraud == 1].type.unique()"
      ]
    },
    {
      "cell_type": "markdown",
      "metadata": {
        "id": "t6zij3OOBBDA"
      },
      "source": [
        "This Shows that Frauds happen in these two TYPES of Transactions : TRANSFER, CASH_OUT.\n"
      ]
    },
    {
      "cell_type": "code",
      "source": [
        "#Diving Cases into Fraud and Non Fraud\n",
        "fraud = data.loc[data.isFraud == 1]\n",
        "nonfraud = data.loc[data.isFraud == 0]"
      ],
      "metadata": {
        "id": "oNUf27fVT7Ur"
      },
      "execution_count": 9,
      "outputs": []
    },
    {
      "cell_type": "code",
      "source": [
        "fig = plt.figure()\n",
        "axes = fig.add_subplot(1,1,1)\n",
        "axes.scatter(nonfraud['amount'],nonfraud['isFlaggedFraud'],c='y')\n",
        "axes.scatter(fraud['amount'],fraud['isFlaggedFraud'],c='r')\n",
        "plt.legend(loc='upper right',labels=['Not Flagged','Flagged'])\n",
        "plt.show()\n"
      ],
      "metadata": {
        "colab": {
          "base_uri": "https://localhost:8080/",
          "height": 278
        },
        "id": "MiqY1CicmEWu",
        "outputId": "3ee147cc-4afa-48bd-b535-967952fd981a"
      },
      "execution_count": 53,
      "outputs": [
        {
          "output_type": "display_data",
          "data": {
            "text/plain": [
              "<Figure size 432x288 with 1 Axes>"
            ],
            "image/png": "[encoded data removed]"
          },
          "metadata": {
            "needs_background": "light"
          }
        }
      ]
    },
    {
      "cell_type": "markdown",
      "source": [
        "The Above Plot Shows Fraud Transactions Which have been Flagged or Not. This shows a need for a system That is fast in Flagging these kinds of transactions. The transactions taggind system needs to modified, tested and implemented to flag these transactions."
      ],
      "metadata": {
        "id": "1tzRP0bbnyTd"
      }
    },
    {
      "cell_type": "code",
      "source": [
        "plt.hist(nonfraud['step'], bins=100)"
      ],
      "metadata": {
        "colab": {
          "base_uri": "https://localhost:8080/",
          "height": 855
        },
        "id": "GvNYCNoOol82",
        "outputId": "9a43bb37-2c50-4951-dc99-f0633d726433"
      },
      "execution_count": 62,
      "outputs": [
        {
          "output_type": "execute_result",
          "data": {
            "text/plain": [
              "(array([3.50080e+04, 2.70525e+05, 2.59099e+05, 1.13930e+04, 1.23383e+05,\n",
              "        2.84247e+05, 4.60180e+04, 0.00000e+00, 0.00000e+00, 0.00000e+00,\n",
              "        0.00000e+00, 0.00000e+00, 1.47880e+04, 1.38650e+04, 0.00000e+00,\n",
              "        0.00000e+00, 1.03220e+04, 5.49100e+04, 2.30228e+05, 1.54179e+05,\n",
              "        1.69300e+03, 1.63779e+05, 2.30907e+05, 2.58990e+04, 1.07505e+05,\n",
              "        2.57090e+05, 8.49590e+04, 1.80860e+04, 2.25582e+05, 1.71834e+05,\n",
              "        3.33100e+03, 1.61983e+05, 2.03724e+05, 2.61010e+04, 9.02720e+04,\n",
              "        2.53635e+05, 7.35400e+04, 7.92000e+03, 1.73841e+05, 1.61383e+05,\n",
              "        5.94600e+03, 1.73270e+05, 2.28647e+05, 2.62870e+04, 7.47650e+04,\n",
              "        2.04811e+05, 1.16563e+05, 1.51830e+04, 1.97545e+05, 1.84494e+05,\n",
              "        5.41100e+03, 1.26625e+05, 2.23599e+05, 2.52350e+04, 7.10030e+04,\n",
              "        2.25798e+05, 1.27080e+05, 2.44900e+03, 5.86400e+03, 1.19550e+04,\n",
              "        2.32000e+02, 2.13900e+03, 7.77500e+03, 1.33000e+03, 1.08800e+03,\n",
              "        1.14220e+04, 6.54900e+03, 1.20700e+03, 1.39740e+04, 7.27200e+03,\n",
              "        3.07000e+03, 1.01040e+04, 2.77820e+04, 1.47570e+04, 3.71800e+03,\n",
              "        2.28490e+04, 2.35650e+04, 1.38000e+02, 1.79700e+04, 1.34580e+04,\n",
              "        1.51200e+03, 1.22580e+04, 3.94860e+04, 6.07500e+03, 2.25300e+03,\n",
              "        6.61600e+03, 3.88900e+03, 1.46000e+02, 3.37800e+03, 4.77400e+03,\n",
              "        2.53000e+02, 4.43900e+03, 7.36800e+03, 2.78600e+03, 4.78500e+03,\n",
              "        2.73200e+04, 2.20920e+04, 8.80000e+01, 6.73000e+03, 4.20100e+03]),\n",
              " array([  1.  ,   8.17,  15.34,  22.51,  29.68,  36.85,  44.02,  51.19,\n",
              "         58.36,  65.53,  72.7 ,  79.87,  87.04,  94.21, 101.38, 108.55,\n",
              "        115.72, 122.89, 130.06, 137.23, 144.4 , 151.57, 158.74, 165.91,\n",
              "        173.08, 180.25, 187.42, 194.59, 201.76, 208.93, 216.1 , 223.27,\n",
              "        230.44, 237.61, 244.78, 251.95, 259.12, 266.29, 273.46, 280.63,\n",
              "        287.8 , 294.97, 302.14, 309.31, 316.48, 323.65, 330.82, 337.99,\n",
              "        345.16, 352.33, 359.5 , 366.67, 373.84, 381.01, 388.18, 395.35,\n",
              "        402.52, 409.69, 416.86, 424.03, 431.2 , 438.37, 445.54, 452.71,\n",
              "        459.88, 467.05, 474.22, 481.39, 488.56, 495.73, 502.9 , 510.07,\n",
              "        517.24, 524.41, 531.58, 538.75, 545.92, 553.09, 560.26, 567.43,\n",
              "        574.6 , 581.77, 588.94, 596.11, 603.28, 610.45, 617.62, 624.79,\n",
              "        631.96, 639.13, 646.3 , 653.47, 660.64, 667.81, 674.98, 682.15,\n",
              "        689.32, 696.49, 703.66, 710.83, 718.  ]),\n",
              " <a list of 100 Patch objects>)"
            ]
          },
          "metadata": {},
          "execution_count": 62
        },
        {
          "output_type": "display_data",
          "data": {
            "text/plain": [
              "<Figure size 432x288 with 1 Axes>"
            ],
            "image/png": "[encoded data removed]"
          },
          "metadata": {
            "needs_background": "light"
          }
        }
      ]
    },
    {
      "cell_type": "code",
      "source": [
        "plt.hist(fraud['step'], bins=100)"
      ],
      "metadata": {
        "colab": {
          "base_uri": "https://localhost:8080/",
          "height": 681
        },
        "id": "iRO82vOvrz8x",
        "outputId": "018028ce-5670-4729-b47e-25293457db15"
      },
      "execution_count": 63,
      "outputs": [
        {
          "output_type": "execute_result",
          "data": {
            "text/plain": [
              "(array([ 90.,  97.,  78.,  60., 121.,  89.,  77., 102.,  98., 116.,  64.,\n",
              "         96.,  74.,  74.,  88.,  68.,  80.,  66.,  60.,  98.,  84., 106.,\n",
              "         58.,  92.,  86.,  68.,  72.,  71., 104.,  70., 106.,  82.,  74.,\n",
              "         94.,  62.,  92., 104.,  90.,  88.,  80.,  64.,  78.,  88.,  78.,\n",
              "         58.,  80.,  62., 100.,  84.,  74.,  78.,  70., 104.,  96., 116.,\n",
              "         98.,  64.,  82.,  66., 100.,  60.,  90.,  84.,  62.,  72.,  72.,\n",
              "         88.,  82.,  70.,  82.,  82.,  78.,  72.,  52.,  86.,  94.,  94.,\n",
              "         78.,  84.,  58.,  72.,  82.,  88.,  84.,  76.,  94.,  86.,  82.,\n",
              "         82.,  62.,  90.,  60.,  92.,  92.,  88.,  68.,  84.,  90.,  88.,\n",
              "         94.]),\n",
              " array([  1.  ,   8.42,  15.84,  23.26,  30.68,  38.1 ,  45.52,  52.94,\n",
              "         60.36,  67.78,  75.2 ,  82.62,  90.04,  97.46, 104.88, 112.3 ,\n",
              "        119.72, 127.14, 134.56, 141.98, 149.4 , 156.82, 164.24, 171.66,\n",
              "        179.08, 186.5 , 193.92, 201.34, 208.76, 216.18, 223.6 , 231.02,\n",
              "        238.44, 245.86, 253.28, 260.7 , 268.12, 275.54, 282.96, 290.38,\n",
              "        297.8 , 305.22, 312.64, 320.06, 327.48, 334.9 , 342.32, 349.74,\n",
              "        357.16, 364.58, 372.  , 379.42, 386.84, 394.26, 401.68, 409.1 ,\n",
              "        416.52, 423.94, 431.36, 438.78, 446.2 , 453.62, 461.04, 468.46,\n",
              "        475.88, 483.3 , 490.72, 498.14, 505.56, 512.98, 520.4 , 527.82,\n",
              "        535.24, 542.66, 550.08, 557.5 , 564.92, 572.34, 579.76, 587.18,\n",
              "        594.6 , 602.02, 609.44, 616.86, 624.28, 631.7 , 639.12, 646.54,\n",
              "        653.96, 661.38, 668.8 , 676.22, 683.64, 691.06, 698.48, 705.9 ,\n",
              "        713.32, 720.74, 728.16, 735.58, 743.  ]),\n",
              " <a list of 100 Patch objects>)"
            ]
          },
          "metadata": {},
          "execution_count": 63
        },
        {
          "output_type": "display_data",
          "data": {
            "text/plain": [
              "<Figure size 432x288 with 1 Axes>"
            ],
            "image/png": "[encoded data removed]"
          },
          "metadata": {
            "needs_background": "light"
          }
        }
      ]
    },
    {
      "cell_type": "markdown",
      "source": [
        "The Above Histogram plot shows that : Non fraud transcations dont run for long steps and fraud transaactions runs for more time But Some fraud transactions can run for short amount of time. Large Steps Transactions need to Cancelled based on pther parameters to prevent Fraudulant Transactions"
      ],
      "metadata": {
        "id": "a4tVjTFEraSK"
      }
    },
    {
      "cell_type": "code",
      "execution_count": 35,
      "metadata": {
        "id": "AahU5IzWSivh"
      },
      "outputs": [],
      "source": [
        "data.drop(['nameOrig','nameDest','isFlaggedFraud'],axis=1,inplace=True)"
      ]
    },
    {
      "cell_type": "code",
      "execution_count": 36,
      "metadata": {
        "colab": {
          "base_uri": "https://localhost:8080/"
        },
        "id": "ebOJdFHnXRWi",
        "outputId": "0985473a-d68f-4845-a96a-b515f3f825a3"
      },
      "outputs": [
        {
          "output_type": "execute_result",
          "data": {
            "text/plain": [
              "CASH_OUT    2237500\n",
              "PAYMENT     2151495\n",
              "CASH_IN     1399284\n",
              "TRANSFER     532909\n",
              "DEBIT         41432\n",
              "Name: type, dtype: int64"
            ]
          },
          "metadata": {},
          "execution_count": 36
        }
      ],
      "source": [
        "data['type'].value_counts()"
      ]
    },
    {
      "cell_type": "code",
      "execution_count": 37,
      "metadata": {
        "colab": {
          "base_uri": "https://localhost:8080/"
        },
        "id": "LaKz-bDxXeAv",
        "outputId": "d98f85da-3d0f-4c81-9d38-0d8ad2ca3734"
      },
      "outputs": [
        {
          "output_type": "execute_result",
          "data": {
            "text/plain": [
              "step                int64\n",
              "amount            float64\n",
              "oldbalanceOrg     float64\n",
              "newbalanceOrig    float64\n",
              "oldbalanceDest    float64\n",
              "newbalanceDest    float64\n",
              "isFraud             int64\n",
              "type_CASH_IN        uint8\n",
              "type_CASH_OUT       uint8\n",
              "type_DEBIT          uint8\n",
              "type_PAYMENT        uint8\n",
              "type_TRANSFER       uint8\n",
              "dtype: object"
            ]
          },
          "metadata": {},
          "execution_count": 37
        }
      ],
      "source": [
        "#1 Hot Encoding FOR TYPE DATA\n",
        "one_data = pd.get_dummies(data, columns = ['type'])\n",
        "\n",
        "one_data.dtypes"
      ]
    },
    {
      "cell_type": "markdown",
      "source": [
        "Other Encoding Functions like Label Encoder can also be used to encode the categorical values in our case that is ['Type']"
      ],
      "metadata": {
        "id": "OUq4fR9ujveG"
      }
    },
    {
      "cell_type": "code",
      "execution_count": 38,
      "metadata": {
        "id": "ZMTVWvcGHV8v"
      },
      "outputs": [],
      "source": [
        "Z=one_data.drop(['isFraud'],axis=1)\n",
        "w=one_data.isFraud"
      ]
    },
    {
      "cell_type": "code",
      "execution_count": 47,
      "metadata": {
        "id": "1J1lh4stXnjp"
      },
      "outputs": [],
      "source": [
        "from sklearn.model_selection import train_test_split\n",
        "X_train, X_test, y_train, y_test = train_test_split(Z, w, test_size = 0.2, random_state = 1) \n",
        "#train test split (the sklearn.model_selection import train_test_split is only capable of splitting into two not into three)"
      ]
    },
    {
      "cell_type": "code",
      "source": [
        "X_train, X_val, y_train, y_val = train_test_split(X_train, y_train, test_size=0.25, random_state=1) #Validataion Split"
      ],
      "metadata": {
        "id": "Ubmty7swkTZE"
      },
      "execution_count": 48,
      "outputs": []
    },
    {
      "cell_type": "markdown",
      "source": [
        "Decision Tree\n"
      ],
      "metadata": {
        "id": "COPtfXjISjaz"
      }
    },
    {
      "cell_type": "code",
      "source": [
        "from sklearn.tree import DecisionTreeClassifier\n",
        "from sklearn.metrics import accuracy_score\n",
        "from sklearn.metrics import classification_report\n",
        "from sklearn.metrics import confusion_matrix"
      ],
      "metadata": {
        "id": "gklyRCvsV-Ok"
      },
      "execution_count": 40,
      "outputs": []
    },
    {
      "cell_type": "code",
      "source": [
        "def prediction(X_test, clf_object):\n",
        "y_pred = clf_object.predict(X_test)\n",
        "print(\"Predicted values:\")\n",
        "print(y_pred)\n",
        "return y_pred"
      ],
      "metadata": {
        "id": "Rsc6gtvbWawc"
      },
      "execution_count": 41,
      "outputs": []
    },
    {
      "cell_type": "code",
      "source": [
        "def train_using_entropy(X_train, X_test, y_train):\n",
        "clf_entropy = DecisionTreeClassifier(criterion = \"entropy\", random_state = 100, max_depth = 3, min_samples_leaf = 5)\n",
        "clf_entropy.fit(X_train, y_train)\n",
        "return clf_entropy"
      ],
      "metadata": {
        "id": "rTQj4D1MVR8y"
      },
      "execution_count": 42,
      "outputs": []
    },
    {
      "cell_type": "code",
      "source": [
        "def cal_accuracy(y_test, y_pred):\n",
        "print(\"Confusion Matrix: \", confusion_matrix(y_test, y_pred))\n",
        "print (\"Accuracy : \", accuracy_score(y_test,y_pred)*100)\n",
        "print(\"Report : \", classification_report(y_test, y_pred))\n",
        "  "
      ],
      "metadata": {
        "id": "CsEc_PCVVXdz"
      },
      "execution_count": 43,
      "outputs": []
    },
    {
      "cell_type": "code",
      "source": [
        "def main():\n",
        "clf_entropy = train_using_entropy(X_train, X_test, y_train)\n",
        "print(\"Results Using Entropy:\")\n",
        "y_pred_entropy = prediction(X_test, clf_entropy)\n",
        "cal_accuracy(y_test, y_pred_entropy)\n",
        "if __name__==\"__main__\":\n",
        "main()"
      ],
      "metadata": {
        "colab": {
          "base_uri": "https://localhost:8080/"
        },
        "id": "VUVFvWseVdvi",
        "outputId": "8f031c98-d2e8-4a23-de5d-e7dca6aac17e"
      },
      "execution_count": 44,
      "outputs": [
        {
          "output_type": "stream",
          "name": "stdout",
          "text": [
            "Results Using Entropy:\n",
            "Predicted values:\n",
            "[0 0 0 ... 0 0 0]\n",
            "Confusion Matrix:  [[1270430     447]\n",
            " [    509    1138]]\n",
            "Accuracy :  99.92487371554486\n",
            "Report :                precision    recall  f1-score   support\n",
            "\n",
            "           0       1.00      1.00      1.00   1270877\n",
            "           1       0.72      0.69      0.70      1647\n",
            "\n",
            "    accuracy                           1.00   1272524\n",
            "   macro avg       0.86      0.85      0.85   1272524\n",
            "weighted avg       1.00      1.00      1.00   1272524\n",
            "\n"
          ]
        }
      ]
    },
    {
      "cell_type": "markdown",
      "source": [
        "Random Forest"
      ],
      "metadata": {
        "id": "SQYvd8Qzblrk"
      }
    },
    {
      "cell_type": "code",
      "source": [
        "from sklearn.ensemble import RandomForestClassifier\n",
        "clf = RandomForestClassifier(n_estimators = 100) \n",
        "clf.fit(X_train, y_train)\n",
        "y_pred = clf.predict(X_test)\n",
        "from sklearn import metrics \n",
        "print()\n",
        "print(\"ACCURACY OF THE MODEL: \", metrics.accuracy_score(y_test, y_pred))"
      ],
      "metadata": {
        "colab": {
          "base_uri": "https://localhost:8080/"
        },
        "id": "K3UWLmUTb2BD",
        "outputId": "0da8c33a-e897-4296-f8cd-e7134a2947f9"
      },
      "execution_count": 45,
      "outputs": [
        {
          "output_type": "stream",
          "name": "stdout",
          "text": [
            "\n",
            "ACCURACY OF THE MODEL:  0.9997076675960532\n"
          ]
        }
      ]
    },
    {
      "cell_type": "markdown",
      "source": [
        "Similarly the isFlaggedFraud can be predicted in same manner. Here We are getting good results due to 1 Hot Encoding feature to encode the categorical data['Type']\n",
        "\n",
        "> As we can see the results using Decision Tree and Random Forest \n",
        "\n"
      ],
      "metadata": {
        "id": "8Z5_torXh29N"
      }
    }
  ],
  "metadata": {
    "colab": {
      "collapsed_sections": [],
      "name": "Task_Fraud_Detection.ipynb",
      "provenance": []
    },
    "kernelspec": {
      "display_name": "Python 3",
      "name": "python3"
    },
    "language_info": {
      "name": "python"
    }
  },
  "nbformat": 4,
  "nbformat_minor": 0
}